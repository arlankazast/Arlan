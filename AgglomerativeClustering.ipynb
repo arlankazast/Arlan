{
  "nbformat": 4,
  "nbformat_minor": 0,
  "metadata": {
    "colab": {
      "name": "AgglomerativeClustering",
      "provenance": [],
      "authorship_tag": "ABX9TyML4tWCuyoU6VMXVjQMTX2A",
      "include_colab_link": true
    },
    "kernelspec": {
      "name": "python3",
      "display_name": "Python 3"
    }
  },
  "cells": [
    {
      "cell_type": "markdown",
      "metadata": {
        "id": "view-in-github",
        "colab_type": "text"
      },
      "source": [
        "<a href=\"https://colab.research.google.com/github/arlankazast/Arlan/blob/master/AgglomerativeClustering.ipynb\" target=\"_parent\"><img src=\"https://colab.research.google.com/assets/colab-badge.svg\" alt=\"Open In Colab\"/></a>"
      ]
    },
    {
      "cell_type": "markdown",
      "metadata": {
        "id": "g8XD5Y5sy5s7",
        "colab_type": "text"
      },
      "source": [
        "# **Agglomerative clustering using further neighborhood method : Task 2**\n"
      ]
    },
    {
      "cell_type": "code",
      "metadata": {
        "id": "wUXYCB1IDQT6",
        "colab_type": "code",
        "colab": {}
      },
      "source": [
        "import numpy as np\n",
        "\n",
        "X = np.array([[3,4,0.12],\n",
        "    [1,4.5,0.15],\n",
        "    [1.2,5,0.89],\n",
        "    [1.4,3.5,0.66],\n",
        "    [1.5,3.2,0.56],\n",
        "    [1.6,3.6,0.23],\n",
        "    [1.8,3.4,0.78],\n",
        "    [1.2,3.7,0.84],\n",
        "    [0.8,2.6,0.15],])"
      ],
      "execution_count": 0,
      "outputs": []
    },
    {
      "cell_type": "markdown",
      "metadata": {
        "id": "Ki50uNPLy4kr",
        "colab_type": "text"
      },
      "source": [
        "The data point on scatter plot to see where they are (9 companies)"
      ]
    },
    {
      "cell_type": "code",
      "metadata": {
        "id": "dLSfZMtjdFEN",
        "colab_type": "code",
        "colab": {
          "base_uri": "https://localhost:8080/",
          "height": 441
        },
        "outputId": "9f08af92-e63c-47a5-ab92-ab3466935efb"
      },
      "source": [
        "import matplotlib.pyplot as plt\n",
        "\n",
        "labels = range(1, 11)\n",
        "plt.figure(figsize=(10, 7))\n",
        "plt.subplots_adjust(bottom=0.1)\n",
        "plt.scatter(X[:,0],X[:,1], label='True Position')\n",
        "\n",
        "for label, x, y in zip(labels, X[:, 0], X[:, 1]):\n",
        "    plt.annotate(\n",
        "        label,\n",
        "        xy=(x, y), xytext=(-3, 3),\n",
        "        textcoords='offset points', ha='right', va='bottom')\n",
        "plt.show()"
      ],
      "execution_count": 7,
      "outputs": [
        {
          "output_type": "display_data",
          "data": {
            "image/png": "[encoded data removed]",
            "text/plain": [
              "<Figure size 720x504 with 1 Axes>"
            ]
          },
          "metadata": {
            "tags": [],
            "needs_background": "light"
          }
        }
      ]
    },
    {
      "cell_type": "markdown",
      "metadata": {
        "id": "lIXrFbxJzbo-",
        "colab_type": "text"
      },
      "source": [
        "Constructing dendrogram to see how many clusters we need (complete method in python is similar to far neighborhood method )"
      ]
    },
    {
      "cell_type": "code",
      "metadata": {
        "id": "8CSgmG_XueiW",
        "colab_type": "code",
        "colab": {
          "base_uri": "https://localhost:8080/",
          "height": 447
        },
        "outputId": "a50ff30d-d5c9-4b50-946e-0e04a7336cdc"
      },
      "source": [
        "import scipy.cluster.hierarchy as shc\n",
        "plt.figure(figsize=(10, 7))  \n",
        "plt.title(\"Dendrograms\")  \n",
        "dend = shc.dendrogram(shc.linkage(X, method = 'complete'))"
      ],
      "execution_count": 9,
      "outputs": [
        {
          "output_type": "display_data",
          "data": {
            "image/png": "[encoded data removed]",
            "text/plain": [
              "<Figure size 720x504 with 1 Axes>"
            ]
          },
          "metadata": {
            "tags": [],
            "needs_background": "light"
          }
        }
      ]
    },
    {
      "cell_type": "markdown",
      "metadata": {
        "id": "QnUZH-rgznkc",
        "colab_type": "text"
      },
      "source": [
        "Predicting to which of 2 clusters the data points should belong using euclidean distance and further neighborhood method"
      ]
    },
    {
      "cell_type": "markdown",
      "metadata": {
        "id": "qAyvK2R1y2tx",
        "colab_type": "text"
      },
      "source": [
        ""
      ]
    },
    {
      "cell_type": "code",
      "metadata": {
        "id": "suN7qYbPvVC0",
        "colab_type": "code",
        "colab": {
          "base_uri": "https://localhost:8080/",
          "height": 33
        },
        "outputId": "16fb3b96-c838-4f5a-cd95-8794d634cb6c"
      },
      "source": [
        "from sklearn.cluster import AgglomerativeClustering\n",
        "\n",
        "cluster = AgglomerativeClustering(n_clusters=2, affinity='euclidean', linkage='complete')\n",
        "cluster.fit_predict(X)"
      ],
      "execution_count": 10,
      "outputs": [
        {
          "output_type": "execute_result",
          "data": {
            "text/plain": [
              "array([0, 0, 0, 1, 1, 1, 1, 1, 1])"
            ]
          },
          "metadata": {
            "tags": []
          },
          "execution_count": 10
        }
      ]
    },
    {
      "cell_type": "markdown",
      "metadata": {
        "id": "vH283TMuzwhm",
        "colab_type": "text"
      },
      "source": [
        "Visualising the 2 clusters in scatter plot"
      ]
    },
    {
      "cell_type": "code",
      "metadata": {
        "id": "KlUFkuTkxfzM",
        "colab_type": "code",
        "colab": {
          "base_uri": "https://localhost:8080/",
          "height": 281
        },
        "outputId": "8d595302-9d71-4caf-8ddd-ece2566208c0"
      },
      "source": [
        "plt.scatter(X[:,0],X[:,1], c=cluster.labels_, cmap='rainbow')"
      ],
      "execution_count": 17,
      "outputs": [
        {
          "output_type": "execute_result",
          "data": {
            "text/plain": [
              "<matplotlib.collections.PathCollection at 0x7fd3e944f710>"
            ]
          },
          "metadata": {
            "tags": []
          },
          "execution_count": 17
        },
        {
          "output_type": "display_data",
          "data": {
            "image/png": "[encoded data removed]",
            "text/plain": [
              "<Figure size 432x288 with 1 Axes>"
            ]
          },
          "metadata": {
            "tags": [],
            "needs_background": "light"
          }
        }
      ]
    },
    {
      "cell_type": "markdown",
      "metadata": {
        "id": "odshMGym980X",
        "colab_type": "text"
      },
      "source": [
        "#** Task 3**: From euclidean distance matrix predicting to which cluster will belong the data points with near neighborhood method (single in python)\n",
        "#distance matrix taken from excel"
      ]
    },
    {
      "cell_type": "code",
      "metadata": {
        "id": "NtEybsVM3Eod",
        "colab_type": "code",
        "colab": {
          "base_uri": "https://localhost:8080/",
          "height": 33
        },
        "outputId": "0c84de1b-b851-4b61-e883-dd7f764a896c"
      },
      "source": [
        "dist_matrix = np.array([[0,49.01,36.249,28.16,57.801,64.288,81.32],\n",
        "               [49.01,0,21.26,58.592,34.132,68.884,105.418],\n",
        "               [36.249,21.26,0,38.275,23.854,49.649,84.291],\n",
        "               [28.16,58.592,38.275,0,40.497,39.446,53.852],\n",
        "               [57.801,34.132,23.854,40.497,0,39.623,81.302],\n",
        "               [64.288,68.884,49.649,39.446,39.623,0,43.081],\n",
        "               [81.32,105.418,84.291,53.852,81.302,43.081,0]])\n",
        "model = AgglomerativeClustering(affinity='precomputed', n_clusters=2, linkage='single').fit(dist_matrix)\n",
        "print(model.labels_)"
      ],
      "execution_count": 21,
      "outputs": [
        {
          "output_type": "stream",
          "text": [
            "[0 0 0 0 0 0 1]\n"
          ],
          "name": "stdout"
        }
      ]
    },
    {
      "cell_type": "code",
      "metadata": {
        "id": "TwpYwJku9ocq",
        "colab_type": "code",
        "colab": {
          "base_uri": "https://localhost:8080/",
          "height": 447
        },
        "outputId": "eefcb59f-441e-48fc-a8d6-29864c252d7d"
      },
      "source": [
        "from scipy.cluster.hierarchy import dendrogram, linkage\n",
        "from scipy.spatial.distance import squareform\n",
        "dists = squareform(dist_matrix)\n",
        "linkage_matrix = linkage(dists, \"single\")\n",
        "plt.figure(figsize=(10, 7))  \n",
        "plt.title(\"Dendrograms\")  \n",
        "dend = shc.dendrogram(linkage_matrix)\n"
      ],
      "execution_count": 23,
      "outputs": [
        {
          "output_type": "display_data",
          "data": {
            "image/png": "[encoded data removed]",
            "text/plain": [
              "<Figure size 720x504 with 1 Axes>"
            ]
          },
          "metadata": {
            "tags": [],
            "needs_background": "light"
          }
        }
      ]
    },
    {
      "cell_type": "code",
      "metadata": {
        "id": "896QKWSuAEmq",
        "colab_type": "code",
        "colab": {
          "base_uri": "https://localhost:8080/",
          "height": 281
        },
        "outputId": "144de799-d44d-4322-f04a-f7f104650d2f"
      },
      "source": [
        "plt.scatter(dist_matrix[:,0],dist_matrix[:,1], c=model.labels_, cmap='rainbow')"
      ],
      "execution_count": 25,
      "outputs": [
        {
          "output_type": "execute_result",
          "data": {
            "text/plain": [
              "<matplotlib.collections.PathCollection at 0x7fd3e91836d8>"
            ]
          },
          "metadata": {
            "tags": []
          },
          "execution_count": 25
        },
        {
          "output_type": "display_data",
          "data": {
            "image/png": "[encoded data removed]",
            "text/plain": [
              "<Figure size 432x288 with 1 Axes>"
            ]
          },
          "metadata": {
            "tags": [],
            "needs_background": "light"
          }
        }
      ]
    }
  ]
}